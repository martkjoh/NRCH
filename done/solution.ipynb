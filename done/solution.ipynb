{
 "cells": [
  {
   "cell_type": "code",
   "execution_count": 3,
   "metadata": {},
   "outputs": [],
   "source": [
    "import numpy as np\n",
    "import matplotlib.pyplot as plt\n",
    "\n",
    "plt.rc(\"font\", family=\"serif\", size=16)\n",
    "plt.rc(\"mathtext\", fontset=\"cm\")\n",
    "plt.rc(\"lines\", lw=2)\n",
    "\n",
    "import sympy as sp\n",
    "from sympy import *\n",
    "from IPython.display import display, Latex\n",
    "\n",
    "\n",
    "D = lambda f, x : (np.array(diff(f(x), Matrix(x))).T)[0]\n",
    "def pr(T):\n",
    "    if len(np.shape(T))==1:\n",
    "        return display(Latex(\"$$\" + sp.latex(Matrix(T)) +\"$$\"))\n",
    "    elif len(np.shape(T))==2:\n",
    "        return display(Latex(\"$$\" + sp.latex(Matrix(T)) +\"$$\"))\n",
    "    else:\n",
    "        return display(Latex(\"$$\" + sp.latex(T) +\"$$\"))\n",
    "\n",
    "def smp(A, f=simplify):\n",
    "    n, m = np.shape(A)\n",
    "    B = np.empty_like(A)\n",
    "    for i in range(n):\n",
    "        for j in range(m):\n",
    "            B[i, j] = f(A[i,j])\n",
    "    return B\n",
    "\n",
    "def smp2(A, f=simplify):\n",
    "    n  = np.shape(A)[0]\n",
    "    B = np.empty_like(A)\n",
    "    for i in range(n):\n",
    "        B[i] = f(A[i])\n",
    "    return B"
   ]
  },
  {
   "cell_type": "code",
   "execution_count": 51,
   "metadata": {},
   "outputs": [],
   "source": [
    "r, th, A, B, bp, u = symbols('r, \\\\theta, A, B, \\\\bar\\\\varphi, u')\n",
    "k, x, t, w = symbols('k, x, t, \\\\omega')\n",
    "ph = w * t - k * x\n",
    "p1 = A * sp.cos(2 * ph) + bp\n",
    "B = sp.sqrt( - 4 * bp * A )\n",
    "p2 = B * sp.cos(ph)"
   ]
  },
  {
   "cell_type": "code",
   "execution_count": 48,
   "metadata": {},
   "outputs": [
    {
     "data": {
      "text/latex": [
       "$\\displaystyle A \\cos{\\left(2 \\omega t - 2 k x \\right)} + \\bar\\varphi$"
      ],
      "text/plain": [
       "A*cos(2*\\omega*t - 2*k*x) + \\bar\\varphi"
      ]
     },
     "execution_count": 48,
     "metadata": {},
     "output_type": "execute_result"
    }
   ],
   "source": [
    "p1"
   ]
  },
  {
   "cell_type": "code",
   "execution_count": 49,
   "metadata": {},
   "outputs": [
    {
     "data": {
      "text/latex": [
       "$\\displaystyle 2 \\sqrt{- A \\bar\\varphi} \\cos{\\left(\\omega t - k x \\right)}$"
      ],
      "text/plain": [
       "2*sqrt(-A*\\bar\\varphi)*cos(\\omega*t - k*x)"
      ]
     },
     "execution_count": 49,
     "metadata": {},
     "output_type": "execute_result"
    }
   ],
   "source": [
    "p2"
   ]
  },
  {
   "cell_type": "code",
   "execution_count": 57,
   "metadata": {},
   "outputs": [
    {
     "data": {
      "text/latex": [
       "$\\displaystyle A^{2} \\cos^{2}{\\left(2 \\omega t - 2 k x \\right)} - 4 A \\bar\\varphi \\cos^{2}{\\left(\\omega t - k x \\right)} + 2 A \\bar\\varphi \\cos{\\left(2 \\omega t - 2 k x \\right)} + \\bar\\varphi^{2}$"
      ],
      "text/plain": [
       "A**2*cos(2*\\omega*t - 2*k*x)**2 - 4*A*\\bar\\varphi*cos(\\omega*t - k*x)**2 + 2*A*\\bar\\varphi*cos(2*\\omega*t - 2*k*x) + \\bar\\varphi**2"
      ]
     },
     "execution_count": 57,
     "metadata": {},
     "output_type": "execute_result"
    }
   ],
   "source": [
    "psq = expand(p1**2 + p2**2)\n",
    "psq"
   ]
  },
  {
   "cell_type": "code",
   "execution_count": 20,
   "metadata": {},
   "outputs": [
    {
     "data": {
      "text/latex": [
       "$\\displaystyle 24 A^{3} k^{2} u \\sin^{2}{\\left(2 \\omega t - 2 k x \\right)} \\cos{\\left(2 \\omega t - 2 k x \\right)} - 12 A^{3} k^{2} u \\cos^{3}{\\left(2 \\omega t - 2 k x \\right)} - 8 A^{2} \\bar\\varphi k^{2} u \\sin^{2}{\\left(\\omega t - k x \\right)} \\cos{\\left(2 \\omega t - 2 k x \\right)} - 32 A^{2} \\bar\\varphi k^{2} u \\sin{\\left(\\omega t - k x \\right)} \\sin{\\left(2 \\omega t - 2 k x \\right)} \\cos{\\left(\\omega t - k x \\right)} + 24 A^{2} \\bar\\varphi k^{2} u \\sin^{2}{\\left(2 \\omega t - 2 k x \\right)} + 24 A^{2} \\bar\\varphi k^{2} u \\cos^{2}{\\left(\\omega t - k x \\right)} \\cos{\\left(2 \\omega t - 2 k x \\right)} - 24 A^{2} \\bar\\varphi k^{2} u \\cos^{2}{\\left(2 \\omega t - 2 k x \\right)} - 8 A \\bar\\varphi^{2} k^{2} u \\sin^{2}{\\left(\\omega t - k x \\right)} + 8 A \\bar\\varphi^{2} k^{2} u \\cos^{2}{\\left(\\omega t - k x \\right)} - 12 A \\bar\\varphi^{2} k^{2} u \\cos{\\left(2 \\omega t - 2 k x \\right)} + 2 A \\omega \\sin{\\left(2 \\omega t - 2 k x \\right)} - 16 A k^{4} \\cos{\\left(2 \\omega t - 2 k x \\right)} - 4 A k^{2} r \\cos{\\left(2 \\omega t - 2 k x \\right)}$"
      ],
      "text/plain": [
       "24*A**3*k**2*u*sin(2*\\omega*t - 2*k*x)**2*cos(2*\\omega*t - 2*k*x) - 12*A**3*k**2*u*cos(2*\\omega*t - 2*k*x)**3 - 8*A**2*\\bar\\varphi*k**2*u*sin(\\omega*t - k*x)**2*cos(2*\\omega*t - 2*k*x) - 32*A**2*\\bar\\varphi*k**2*u*sin(\\omega*t - k*x)*sin(2*\\omega*t - 2*k*x)*cos(\\omega*t - k*x) + 24*A**2*\\bar\\varphi*k**2*u*sin(2*\\omega*t - 2*k*x)**2 + 24*A**2*\\bar\\varphi*k**2*u*cos(\\omega*t - k*x)**2*cos(2*\\omega*t - 2*k*x) - 24*A**2*\\bar\\varphi*k**2*u*cos(2*\\omega*t - 2*k*x)**2 - 8*A*\\bar\\varphi**2*k**2*u*sin(\\omega*t - k*x)**2 + 8*A*\\bar\\varphi**2*k**2*u*cos(\\omega*t - k*x)**2 - 12*A*\\bar\\varphi**2*k**2*u*cos(2*\\omega*t - 2*k*x) + 2*A*\\omega*sin(2*\\omega*t - 2*k*x) - 16*A*k**4*cos(2*\\omega*t - 2*k*x) - 4*A*k**2*r*cos(2*\\omega*t - 2*k*x)"
      ]
     },
     "execution_count": 20,
     "metadata": {},
     "output_type": "execute_result"
    }
   ],
   "source": [
    "eq1 = - diff(p1, t) \\\n",
    "    + diff(diff( \n",
    "        r * p1 \\\n",
    "        - simplify(diff(diff(p1, x), x))\n",
    "        + u * simplify(p1**2 + p2**2)*p1\n",
    "    ,x ), x)\n",
    "eq1 = expand(eq1)\n",
    "eq1"
   ]
  },
  {
   "cell_type": "code",
   "execution_count": 22,
   "metadata": {},
   "outputs": [
    {
     "data": {
      "text/latex": [
       "$\\displaystyle 24 A^{3} k^{2} u \\sin^{2}{\\left(2 \\left(\\omega t - k x\\right) \\right)} \\cos{\\left(2 \\left(\\omega t - k x\\right) \\right)} - 12 A^{3} k^{2} u \\cos^{3}{\\left(2 \\left(\\omega t - k x\\right) \\right)} - 8 A^{2} \\bar\\varphi k^{2} u \\left(1 - \\cos{\\left(4 \\left(\\omega t - k x\\right) \\right)}\\right) - 8 A^{2} \\bar\\varphi k^{2} u \\sin^{2}{\\left(\\omega t - k x \\right)} \\cos{\\left(2 \\left(\\omega t - k x\\right) \\right)} + 24 A^{2} \\bar\\varphi k^{2} u \\sin^{2}{\\left(2 \\left(\\omega t - k x\\right) \\right)} + 24 A^{2} \\bar\\varphi k^{2} u \\cos^{2}{\\left(\\omega t - k x \\right)} \\cos{\\left(2 \\left(\\omega t - k x\\right) \\right)} - 24 A^{2} \\bar\\varphi k^{2} u \\cos^{2}{\\left(2 \\left(\\omega t - k x\\right) \\right)} - 8 A \\bar\\varphi^{2} k^{2} u \\sin^{2}{\\left(\\omega t - k x \\right)} + 8 A \\bar\\varphi^{2} k^{2} u \\cos^{2}{\\left(\\omega t - k x \\right)} - 12 A \\bar\\varphi^{2} k^{2} u \\cos{\\left(2 \\left(\\omega t - k x\\right) \\right)} + 2 A \\omega \\sin{\\left(2 \\left(\\omega t - k x\\right) \\right)} - 16 A k^{4} \\cos{\\left(2 \\left(\\omega t - k x\\right) \\right)} - 4 A k^{2} r \\cos{\\left(2 \\left(\\omega t - k x\\right) \\right)}$"
      ],
      "text/plain": [
       "24*A**3*k**2*u*sin(2*(\\omega*t - k*x))**2*cos(2*(\\omega*t - k*x)) - 12*A**3*k**2*u*cos(2*(\\omega*t - k*x))**3 - 8*A**2*\\bar\\varphi*k**2*u*(1 - cos(4*(\\omega*t - k*x))) - 8*A**2*\\bar\\varphi*k**2*u*sin(\\omega*t - k*x)**2*cos(2*(\\omega*t - k*x)) + 24*A**2*\\bar\\varphi*k**2*u*sin(2*(\\omega*t - k*x))**2 + 24*A**2*\\bar\\varphi*k**2*u*cos(\\omega*t - k*x)**2*cos(2*(\\omega*t - k*x)) - 24*A**2*\\bar\\varphi*k**2*u*cos(2*(\\omega*t - k*x))**2 - 8*A*\\bar\\varphi**2*k**2*u*sin(\\omega*t - k*x)**2 + 8*A*\\bar\\varphi**2*k**2*u*cos(\\omega*t - k*x)**2 - 12*A*\\bar\\varphi**2*k**2*u*cos(2*(\\omega*t - k*x)) + 2*A*\\omega*sin(2*(\\omega*t - k*x)) - 16*A*k**4*cos(2*(\\omega*t - k*x)) - 4*A*k**2*r*cos(2*(\\omega*t - k*x))"
      ]
     },
     "execution_count": 22,
     "metadata": {},
     "output_type": "execute_result"
    }
   ],
   "source": [
    "trigsimp(eq1)"
   ]
  },
  {
   "cell_type": "code",
   "execution_count": null,
   "metadata": {},
   "outputs": [],
   "source": []
  }
 ],
 "metadata": {
  "kernelspec": {
   "display_name": "Python 3",
   "language": "python",
   "name": "python3"
  },
  "language_info": {
   "codemirror_mode": {
    "name": "ipython",
    "version": 3
   },
   "file_extension": ".py",
   "mimetype": "text/x-python",
   "name": "python",
   "nbconvert_exporter": "python",
   "pygments_lexer": "ipython3",
   "version": "3.10.6"
  },
  "orig_nbformat": 4
 },
 "nbformat": 4,
 "nbformat_minor": 2
}
