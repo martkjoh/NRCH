{
 "cells": [
  {
   "cell_type": "code",
   "execution_count": 76,
   "metadata": {},
   "outputs": [],
   "source": [
    "from sympy import Matrix\n",
    "from sympy import symbols, diff, cos, sin, simplify, Rational\n",
    "from sympy.core.symbol import Symbol\n",
    "\n",
    "import numpy as np\n",
    "import sympy as sp\n",
    "\n",
    "from IPython.display import display, Latex\n",
    "\n",
    "\n",
    "def pr(T):\n",
    "    if len(np.shape(T))==2:\n",
    "        return display(Latex(\"$$\" + sp.latex(Matrix(T)) +\"$$\"))\n",
    "    return display(Latex(\"$$\" + sp.latex(T) +\"$$\"))\n"
   ]
  },
  {
   "cell_type": "code",
   "execution_count": 77,
   "metadata": {},
   "outputs": [],
   "source": [
    "g = np.zeros((2, 2, 2), dtype=Symbol)\n",
    "a = Symbol('a')\n",
    "\n",
    "g[0, 0, 0] = 3\n",
    "g[0, 1, 1] = 1\n",
    "g[1, 0, 1] = 1\n",
    "g[1, 1, 0] = 1"
   ]
  },
  {
   "cell_type": "code",
   "execution_count": 78,
   "metadata": {},
   "outputs": [
    {
     "data": {
      "text/latex": [
       "$$\\left[\\begin{matrix}3 & 0\\\\0 & 1\\end{matrix}\\right]$$"
      ],
      "text/plain": [
       "<IPython.core.display.Latex object>"
      ]
     },
     "metadata": {},
     "output_type": "display_data"
    },
    {
     "data": {
      "text/latex": [
       "$$\\left[\\begin{matrix}0 & 1\\\\1 & 0\\end{matrix}\\right]$$"
      ],
      "text/plain": [
       "<IPython.core.display.Latex object>"
      ]
     },
     "metadata": {},
     "output_type": "display_data"
    }
   ],
   "source": [
    "pr(g[0])\n",
    "pr(g[1])"
   ]
  },
  {
   "cell_type": "code",
   "execution_count": 85,
   "metadata": {},
   "outputs": [
    {
     "data": {
      "text/latex": [
       "$$\\left[\\begin{matrix}\\cos{\\left(t \\right)} & \\sin{\\left(t \\right)}\\\\\\sin{\\left(t \\right)} & - \\cos{\\left(t \\right)}\\end{matrix}\\right]$$"
      ],
      "text/plain": [
       "<IPython.core.display.Latex object>"
      ]
     },
     "metadata": {},
     "output_type": "display_data"
    }
   ],
   "source": [
    "t = Symbol('t')\n",
    "v1 = cos(t)\n",
    "v2 = sin(t)\n",
    "U = np.array([[v1, v2], [v2, -v1]])\n",
    "pr(U)"
   ]
  },
  {
   "cell_type": "code",
   "execution_count": 95,
   "metadata": {},
   "outputs": [
    {
     "name": "stdout",
     "output_type": "stream",
     "text": [
      "(0, 0, 0)\n",
      "3*cos(t)**3\n",
      "3*cos(t)**3\n",
      "3*cos(t)**3\n",
      "sin(t)**2*cos(t) + 3*cos(t)**3\n",
      "sin(t)**2*cos(t) + 3*cos(t)**3\n",
      "2*sin(t)**2*cos(t) + 3*cos(t)**3\n",
      "3*sin(t)**2*cos(t) + 3*cos(t)**3\n",
      "3*sin(t)**2*cos(t) + 3*cos(t)**3\n"
     ]
    },
    {
     "data": {
      "text/latex": [
       "$$3 \\sin^{2}{\\left(t \\right)} \\cos{\\left(t \\right)} + 3 \\cos^{3}{\\left(t \\right)}$$"
      ],
      "text/plain": [
       "<IPython.core.display.Latex object>"
      ]
     },
     "metadata": {},
     "output_type": "display_data"
    },
    {
     "data": {
      "text/latex": [
       "$$3 \\cos{\\left(t \\right)}$$"
      ],
      "text/plain": [
       "<IPython.core.display.Latex object>"
      ]
     },
     "metadata": {},
     "output_type": "display_data"
    },
    {
     "name": "stdout",
     "output_type": "stream",
     "text": [
      "(0, 0, 1)\n",
      "3*sin(t)*cos(t)**2\n",
      "3*sin(t)*cos(t)**2\n",
      "3*sin(t)*cos(t)**2\n",
      "2*sin(t)*cos(t)**2\n",
      "2*sin(t)*cos(t)**2\n",
      "sin(t)*cos(t)**2\n",
      "sin(t)**3 + sin(t)*cos(t)**2\n",
      "sin(t)**3 + sin(t)*cos(t)**2\n"
     ]
    },
    {
     "data": {
      "text/latex": [
       "$$\\sin^{3}{\\left(t \\right)} + \\sin{\\left(t \\right)} \\cos^{2}{\\left(t \\right)}$$"
      ],
      "text/plain": [
       "<IPython.core.display.Latex object>"
      ]
     },
     "metadata": {},
     "output_type": "display_data"
    },
    {
     "data": {
      "text/latex": [
       "$$\\sin{\\left(t \\right)}$$"
      ],
      "text/plain": [
       "<IPython.core.display.Latex object>"
      ]
     },
     "metadata": {},
     "output_type": "display_data"
    },
    {
     "name": "stdout",
     "output_type": "stream",
     "text": [
      "(0, 1, 0)\n",
      "3*sin(t)*cos(t)**2\n",
      "3*sin(t)*cos(t)**2\n",
      "3*sin(t)*cos(t)**2\n",
      "2*sin(t)*cos(t)**2\n",
      "2*sin(t)*cos(t)**2\n",
      "sin(t)**3 + 2*sin(t)*cos(t)**2\n",
      "sin(t)**3 + sin(t)*cos(t)**2\n",
      "sin(t)**3 + sin(t)*cos(t)**2\n"
     ]
    },
    {
     "data": {
      "text/latex": [
       "$$\\sin^{3}{\\left(t \\right)} + \\sin{\\left(t \\right)} \\cos^{2}{\\left(t \\right)}$$"
      ],
      "text/plain": [
       "<IPython.core.display.Latex object>"
      ]
     },
     "metadata": {},
     "output_type": "display_data"
    },
    {
     "data": {
      "text/latex": [
       "$$\\sin{\\left(t \\right)}$$"
      ],
      "text/plain": [
       "<IPython.core.display.Latex object>"
      ]
     },
     "metadata": {},
     "output_type": "display_data"
    },
    {
     "name": "stdout",
     "output_type": "stream",
     "text": [
      "(0, 1, 1)\n",
      "3*sin(t)**2*cos(t)\n",
      "3*sin(t)**2*cos(t)\n",
      "3*sin(t)**2*cos(t)\n",
      "3*sin(t)**2*cos(t) + cos(t)**3\n",
      "3*sin(t)**2*cos(t) + cos(t)**3\n",
      "2*sin(t)**2*cos(t) + cos(t)**3\n",
      "sin(t)**2*cos(t) + cos(t)**3\n",
      "sin(t)**2*cos(t) + cos(t)**3\n"
     ]
    },
    {
     "data": {
      "text/latex": [
       "$$\\sin^{2}{\\left(t \\right)} \\cos{\\left(t \\right)} + \\cos^{3}{\\left(t \\right)}$$"
      ],
      "text/plain": [
       "<IPython.core.display.Latex object>"
      ]
     },
     "metadata": {},
     "output_type": "display_data"
    },
    {
     "data": {
      "text/latex": [
       "$$\\cos{\\left(t \\right)}$$"
      ],
      "text/plain": [
       "<IPython.core.display.Latex object>"
      ]
     },
     "metadata": {},
     "output_type": "display_data"
    },
    {
     "name": "stdout",
     "output_type": "stream",
     "text": [
      "(1, 0, 0)\n",
      "3*sin(t)*cos(t)**2\n",
      "3*sin(t)*cos(t)**2\n",
      "3*sin(t)*cos(t)**2\n",
      "sin(t)**3 + 3*sin(t)*cos(t)**2\n",
      "sin(t)**3 + 3*sin(t)*cos(t)**2\n",
      "sin(t)**3 + 2*sin(t)*cos(t)**2\n",
      "sin(t)**3 + sin(t)*cos(t)**2\n",
      "sin(t)**3 + sin(t)*cos(t)**2\n"
     ]
    },
    {
     "data": {
      "text/latex": [
       "$$\\sin^{3}{\\left(t \\right)} + \\sin{\\left(t \\right)} \\cos^{2}{\\left(t \\right)}$$"
      ],
      "text/plain": [
       "<IPython.core.display.Latex object>"
      ]
     },
     "metadata": {},
     "output_type": "display_data"
    },
    {
     "data": {
      "text/latex": [
       "$$\\sin{\\left(t \\right)}$$"
      ],
      "text/plain": [
       "<IPython.core.display.Latex object>"
      ]
     },
     "metadata": {},
     "output_type": "display_data"
    },
    {
     "name": "stdout",
     "output_type": "stream",
     "text": [
      "(1, 0, 1)\n",
      "3*sin(t)**2*cos(t)\n",
      "3*sin(t)**2*cos(t)\n",
      "3*sin(t)**2*cos(t)\n",
      "2*sin(t)**2*cos(t)\n",
      "2*sin(t)**2*cos(t)\n",
      "2*sin(t)**2*cos(t) + cos(t)**3\n",
      "sin(t)**2*cos(t) + cos(t)**3\n",
      "sin(t)**2*cos(t) + cos(t)**3\n"
     ]
    },
    {
     "data": {
      "text/latex": [
       "$$\\sin^{2}{\\left(t \\right)} \\cos{\\left(t \\right)} + \\cos^{3}{\\left(t \\right)}$$"
      ],
      "text/plain": [
       "<IPython.core.display.Latex object>"
      ]
     },
     "metadata": {},
     "output_type": "display_data"
    },
    {
     "data": {
      "text/latex": [
       "$$\\cos{\\left(t \\right)}$$"
      ],
      "text/plain": [
       "<IPython.core.display.Latex object>"
      ]
     },
     "metadata": {},
     "output_type": "display_data"
    },
    {
     "name": "stdout",
     "output_type": "stream",
     "text": [
      "(1, 1, 0)\n",
      "3*sin(t)**2*cos(t)\n",
      "3*sin(t)**2*cos(t)\n",
      "3*sin(t)**2*cos(t)\n",
      "2*sin(t)**2*cos(t)\n",
      "2*sin(t)**2*cos(t)\n",
      "sin(t)**2*cos(t)\n",
      "sin(t)**2*cos(t) + cos(t)**3\n",
      "sin(t)**2*cos(t) + cos(t)**3\n"
     ]
    },
    {
     "data": {
      "text/latex": [
       "$$\\sin^{2}{\\left(t \\right)} \\cos{\\left(t \\right)} + \\cos^{3}{\\left(t \\right)}$$"
      ],
      "text/plain": [
       "<IPython.core.display.Latex object>"
      ]
     },
     "metadata": {},
     "output_type": "display_data"
    },
    {
     "data": {
      "text/latex": [
       "$$\\cos{\\left(t \\right)}$$"
      ],
      "text/plain": [
       "<IPython.core.display.Latex object>"
      ]
     },
     "metadata": {},
     "output_type": "display_data"
    },
    {
     "name": "stdout",
     "output_type": "stream",
     "text": [
      "(1, 1, 1)\n",
      "3*sin(t)**3\n",
      "3*sin(t)**3\n",
      "3*sin(t)**3\n",
      "3*sin(t)**3 + sin(t)*cos(t)**2\n",
      "3*sin(t)**3 + sin(t)*cos(t)**2\n",
      "3*sin(t)**3 + 2*sin(t)*cos(t)**2\n",
      "3*sin(t)**3 + 3*sin(t)*cos(t)**2\n",
      "3*sin(t)**3 + 3*sin(t)*cos(t)**2\n"
     ]
    },
    {
     "data": {
      "text/latex": [
       "$$3 \\sin^{3}{\\left(t \\right)} + 3 \\sin{\\left(t \\right)} \\cos^{2}{\\left(t \\right)}$$"
      ],
      "text/plain": [
       "<IPython.core.display.Latex object>"
      ]
     },
     "metadata": {},
     "output_type": "display_data"
    },
    {
     "data": {
      "text/latex": [
       "$$3 \\sin{\\left(t \\right)}$$"
      ],
      "text/plain": [
       "<IPython.core.display.Latex object>"
      ]
     },
     "metadata": {},
     "output_type": "display_data"
    }
   ],
   "source": [
    "gp = np.zeros_like(g)\n",
    "for i in range(2):\n",
    "    for j in range(2):\n",
    "        for k in range(2):\n",
    "            print((i, j, k))\n",
    "            for a in range(2):\n",
    "                for b in range(2):\n",
    "                    for c in range(2):\n",
    "                        gp[i, j, k] += U[i, a] * U[j, b] * U[k, c] * g[a, b, c]\n",
    "                        print(gp[i, j, k])\n",
    "            pr(gp[i, j, k])\n",
    "            gp[i, j, k] = simplify(gp[i, j, k])\n",
    "            pr(gp[i, j, k])"
   ]
  },
  {
   "cell_type": "code",
   "execution_count": 96,
   "metadata": {},
   "outputs": [
    {
     "data": {
      "text/latex": [
       "$$\\left[\\begin{matrix}3 \\cos{\\left(t \\right)} & \\sin{\\left(t \\right)}\\\\\\sin{\\left(t \\right)} & \\cos{\\left(t \\right)}\\end{matrix}\\right]$$"
      ],
      "text/plain": [
       "<IPython.core.display.Latex object>"
      ]
     },
     "metadata": {},
     "output_type": "display_data"
    },
    {
     "data": {
      "text/latex": [
       "$$\\left[\\begin{matrix}\\sin{\\left(t \\right)} & \\cos{\\left(t \\right)}\\\\\\cos{\\left(t \\right)} & 3 \\sin{\\left(t \\right)}\\end{matrix}\\right]$$"
      ],
      "text/plain": [
       "<IPython.core.display.Latex object>"
      ]
     },
     "metadata": {},
     "output_type": "display_data"
    }
   ],
   "source": [
    "pr(gp[0])\n",
    "pr(gp[1])"
   ]
  },
  {
   "cell_type": "code",
   "execution_count": 91,
   "metadata": {},
   "outputs": [],
   "source": [
    "gp = np.zeros_like(g)\n",
    "for j in range(2):\n",
    "    for k in range(2):\n",
    "        for b in range(2):\n",
    "            for c in range(2):\n",
    "                gp[:, j, k] += U[j, b] * U[k, c] * g[:, b, c]"
   ]
  },
  {
   "cell_type": "code",
   "execution_count": 92,
   "metadata": {},
   "outputs": [
    {
     "data": {
      "text/latex": [
       "$$\\left[\\begin{matrix}\\sin^{2}{\\left(t \\right)} + 3 \\cos^{2}{\\left(t \\right)} & 2 \\sin{\\left(t \\right)} \\cos{\\left(t \\right)}\\\\2 \\sin{\\left(t \\right)} \\cos{\\left(t \\right)} & 3 \\sin^{2}{\\left(t \\right)} + \\cos^{2}{\\left(t \\right)}\\end{matrix}\\right]$$"
      ],
      "text/plain": [
       "<IPython.core.display.Latex object>"
      ]
     },
     "metadata": {},
     "output_type": "display_data"
    }
   ],
   "source": [
    "pr(gp[0])"
   ]
  },
  {
   "cell_type": "code",
   "execution_count": 93,
   "metadata": {},
   "outputs": [
    {
     "data": {
      "text/latex": [
       "$$\\left[\\begin{matrix}2 \\sin{\\left(t \\right)} \\cos{\\left(t \\right)} & \\sin^{2}{\\left(t \\right)} - \\cos^{2}{\\left(t \\right)}\\\\\\sin^{2}{\\left(t \\right)} - \\cos^{2}{\\left(t \\right)} & - 2 \\sin{\\left(t \\right)} \\cos{\\left(t \\right)}\\end{matrix}\\right]$$"
      ],
      "text/plain": [
       "<IPython.core.display.Latex object>"
      ]
     },
     "metadata": {},
     "output_type": "display_data"
    }
   ],
   "source": [
    "\n",
    "pr(gp[1])"
   ]
  },
  {
   "cell_type": "code",
   "execution_count": null,
   "metadata": {},
   "outputs": [],
   "source": []
  }
 ],
 "metadata": {
  "kernelspec": {
   "display_name": "Python 3",
   "language": "python",
   "name": "python3"
  },
  "language_info": {
   "codemirror_mode": {
    "name": "ipython",
    "version": 3
   },
   "file_extension": ".py",
   "mimetype": "text/x-python",
   "name": "python",
   "nbconvert_exporter": "python",
   "pygments_lexer": "ipython3",
   "version": "3.10.6"
  },
  "orig_nbformat": 4
 },
 "nbformat": 4,
 "nbformat_minor": 2
}
